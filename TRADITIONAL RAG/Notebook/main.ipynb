{
 "cells": [
  {
   "cell_type": "code",
   "execution_count": 1,
   "id": "f24cad1e",
   "metadata": {},
   "outputs": [],
   "source": [
    "from langchain_community.document_loaders import PyPDFLoader, DirectoryLoader\n",
    "from langchain.text_splitter import RecursiveCharacterTextSplitter\n",
    "from langchain_huggingface import HuggingFaceEmbeddings\n",
    "from langchain_community.vectorstores import FAISS\n",
    "from langchain_groq import ChatGroq  \n",
    "import os\n",
    "from langchain.chains import RetrievalQA\n",
    "from langchain.prompts import PromptTemplate"
   ]
  },
  {
   "cell_type": "code",
   "execution_count": 2,
   "id": "d113a8b6",
   "metadata": {},
   "outputs": [
    {
     "name": "stdout",
     "output_type": "stream",
     "text": [
      "Length of PDF Pages 2521\n"
     ]
    }
   ],
   "source": [
    "DATA_PATH='Data/'\n",
    "def load_pdf_files(data):\n",
    "    loader=DirectoryLoader(data,\n",
    "                           glob='*.pdf',\n",
    "                           loader_cls=PyPDFLoader)\n",
    "    documents=loader.load()\n",
    "    return documents\n",
    "\n",
    "documents=load_pdf_files(data=DATA_PATH)\n",
    "print('Length of PDF Pages', len(documents))"
   ]
  },
  {
   "cell_type": "code",
   "execution_count": 3,
   "id": "e596e801",
   "metadata": {},
   "outputs": [
    {
     "name": "stdout",
     "output_type": "stream",
     "text": [
      "Length of Text Chunks 7640\n"
     ]
    }
   ],
   "source": [
    "def create_chunks(extracted_data):\n",
    "    text_splitter=RecursiveCharacterTextSplitter(chunk_size=1000, chunk_overlap=200)\n",
    "    text_chunks=text_splitter.split_documents(extracted_data)\n",
    "    return text_chunks\n",
    "\n",
    "text_chunks=create_chunks(extracted_data=documents)\n",
    "print('Length of Text Chunks', len(text_chunks))"
   ]
  },
  {
   "cell_type": "code",
   "execution_count": 4,
   "id": "4d3f38be",
   "metadata": {},
   "outputs": [
    {
     "name": "stderr",
     "output_type": "stream",
     "text": [
      "c:\\Users\\DELL\\AppData\\Local\\Programs\\Python\\Python312\\Lib\\site-packages\\tqdm\\auto.py:21: TqdmWarning: IProgress not found. Please update jupyter and ipywidgets. See https://ipywidgets.readthedocs.io/en/stable/user_install.html\n",
      "  from .autonotebook import tqdm as notebook_tqdm\n"
     ]
    },
    {
     "name": "stdout",
     "output_type": "stream",
     "text": [
      "WARNING:tensorflow:From C:\\Users\\DELL\\AppData\\Roaming\\Python\\Python312\\site-packages\\tf_keras\\src\\losses.py:2976: The name tf.losses.sparse_softmax_cross_entropy is deprecated. Please use tf.compat.v1.losses.sparse_softmax_cross_entropy instead.\n",
      "\n"
     ]
    }
   ],
   "source": [
    "def get_embedding_model():\n",
    "    embedding_model=HuggingFaceEmbeddings(model_name='sentence-transformers/all-MiniLM-L6-v2')\n",
    "    return embedding_model\n",
    "\n",
    "embedding_model=get_embedding_model()"
   ]
  },
  {
   "cell_type": "code",
   "execution_count": 5,
   "id": "ec08bd89",
   "metadata": {},
   "outputs": [],
   "source": [
    "DB_FAISS_PATH='vectorstore/db_faiss'\n",
    "db=FAISS.from_documents(text_chunks, embedding_model)\n",
    "db.save_local(DB_FAISS_PATH)"
   ]
  },
  {
   "cell_type": "code",
   "execution_count": null,
   "id": "9bf5f1dc",
   "metadata": {},
   "outputs": [],
   "source": [
    "GROQ_API_KEY = \"your-groq-api-key\"\n",
    "\n",
    "def load_llm():\n",
    "    llm = ChatGroq(\n",
    "        api_key=GROQ_API_KEY,\n",
    "        model_name=\"llama3-70b-8192\", \n",
    "        temperature=0.9,\n",
    "        max_tokens=512\n",
    "    )\n",
    "    return llm\n",
    "\n",
    "\n",
    "# Step 2: Create Custom Prompt \n",
    "CUSTOM_PROMPT_TEMPLATE = \"\"\"\n",
    "You are BankBuddy.ai — a professional and intelligent banking assistant.\n",
    "\n",
    "Behavior Rules:\n",
    "1. If the user input contains a **banking-related query**:\n",
    "   - Use only the given context — do not make up information.\n",
    "   - If the answer is not found in the context, reply with:\n",
    "     **\"I'm sorry, I couldn’t find that information in the available context.\"**\n",
    "\n",
    "2. If the user asks about you or your identity (e.g., \"Who are you?\", \"Are you a bot?\", \"What is BankBuddy?\") reply with:\n",
    "    - \"Who are you?\" : I'm BankBuddy.ai, your intelligent assistant designed to help you with everything from loans and credit cards to accounts, KYC, and banking policies.\n",
    "    - \"Are you a bot?\" : Yes, your intelligent assistant designed to help you with everything from loans and credit cards to accounts etc..\n",
    "    - \"What is BankBuddy\" : BankBuddy.ai is a AI assistant designed to help with bank related queries.\n",
    "\n",
    "Maintain a respectful and professional tone. Keep responses clear, concise, and formatted properly.\n",
    "\n",
    "---\n",
    "\n",
    "📄 Context:\n",
    "{context}\n",
    "\n",
    "👤 User:\n",
    "{question}\n",
    "\n",
    "💬 BankBuddy.ai:\n",
    "\n",
    "\n",
    "        \"\"\"\n",
    "\n",
    "def set_custom_prompt(custom_prompt_template):\n",
    "    prompt = PromptTemplate(\n",
    "        template=custom_prompt_template,\n",
    "        input_variables=[\"context\", \"question\"]\n",
    "    )\n",
    "    return prompt"
   ]
  },
  {
   "cell_type": "code",
   "execution_count": 7,
   "id": "c21e17a4",
   "metadata": {},
   "outputs": [],
   "source": [
    "DB_FAISS_PATH = 'vectorstore/db_faiss'\n",
    "embedding_model = HuggingFaceEmbeddings(model_name=\"sentence-transformers/all-MiniLM-L6-v2\")\n",
    "db = FAISS.load_local(DB_FAISS_PATH, embedding_model, allow_dangerous_deserialization=True)"
   ]
  },
  {
   "cell_type": "code",
   "execution_count": 8,
   "id": "b0631fc8",
   "metadata": {},
   "outputs": [],
   "source": [
    "qa_chain = RetrievalQA.from_chain_type(\n",
    "    llm=load_llm(),\n",
    "    chain_type=\"stuff\",\n",
    "    retriever=db.as_retriever(search_kwargs={\"k\": 3}),\n",
    "    return_source_documents=True,\n",
    "    chain_type_kwargs={\"prompt\": set_custom_prompt(CUSTOM_PROMPT_TEMPLATE)}\n",
    ")"
   ]
  },
  {
   "cell_type": "code",
   "execution_count": 9,
   "id": "fb79e46a",
   "metadata": {},
   "outputs": [
    {
     "name": "stdout",
     "output_type": "stream",
     "text": [
      "\n",
      "RESULT:\n",
      " According to Article 13, when dealing with the Insurance Authority (IA) and other official agencies, the Company is required to:\n",
      "\n",
      "1. Deal with transparency and professionalism.\n",
      "2. Provide any data or information required by the Director General concerning insurance applications rejected by the Company or policies it has declined to renew, along with a statement of such rejection or non-renewal.\n",
      "3. Reply to inquiries by the IA regarding any complaint submitted to and notified to the Company within an appropriate period to be set by the IA.\n",
      "\n",
      "These requirements ensure that the Company maintains transparency and professionalism in its dealings with the IA and other official agencies.\n",
      "\n",
      "SOURCE DOCUMENTS:\n",
      " [Document(id='b5629240-b738-4298-ad64-b858f6a601bc', metadata={'producer': 'Adobe PDF Library 16.0', 'creator': 'Adobe InDesign 16.4 (Windows)', 'creationdate': '2023-03-26T02:15:27+05:30', 'moddate': '2023-03-26T02:15:29+05:30', 'trapped': '/False', 'source': 'Data\\\\CBUAE_EN_156_VER2.pdf', 'total_pages': 9, 'page': 8, 'page_label': '9'}, page_content='advantages that may or may not be achieved in the future.\\nArticle 13 Dealing with the IA and Official Agencies\\nWhen dealing with the IA and other official agencies, the Company is required to observe the following:\\n1. Deal with transparency and professionalism. \\n2.   Provide any data or information required by the Director General concerning insurance applications \\nrejected by the Company or policies it has declined to renew, along with a statement of the reasons of \\nsuch rejection or non-renewal. The Company shall reply to inquiries by the IA regarding any complaint \\nsubmitted to and notified to the Company within an appropriate period to be set by the IA.\\nArticle 14 Settlement of Disputes between Companies and Payment of Balances\\nThe payment of undisputed balances among the companies is required for the good conduct of transactions \\nin the insurance market.\\nThe companies must settle all disputes arising among them by bilateral amicable methods or through the'), Document(id='05141434-532b-4de5-9694-d7c246b32118', metadata={'producer': 'Adobe PDF Library 16.0', 'creator': 'Adobe InDesign 16.4 (Windows)', 'creationdate': '2023-03-26T02:15:27+05:30', 'moddate': '2023-03-26T02:15:29+05:30', 'trapped': '/False', 'source': 'Data\\\\CBUAE_EN_156_VER2.pdf', 'total_pages': 9, 'page': 3, 'page_label': '4'}, page_content='provisions and regulations, instructions and decisions issued pursuant thereto as well as the contractual \\nrelations and what the proper insurance practice requires. \\n 8.  Not to deal with any person or entity from the professions associated with insurance that is not licensed \\nby the IA including the business of agency, brokerage, consultation or expertise in claim settlement or \\nactuarial expertise; and ensure that the aforesaid persons or entities have the required license. \\n 9. Fully comply with the provisions of mandatory insurance policies issued by the IA in accordance with \\nthe laws and regulations, instructions and decisions issued thereunder. \\n10.  Take the necessary actions to apply the regulations and the instructions related to anti-money laundering \\nand combating financing of terrorism issued by the competent official authorities and the IA. \\n11.  Execute the insurance policies and all the documents concerning the relationship with the Clients in'), Document(id='e600e1e7-7654-415a-8035-77e1fffbd5ec', metadata={'producer': 'Microsoft® Word 2016', 'creator': 'Microsoft® Word 2016', 'creationdate': '2022-03-30T11:59:40+04:00', 'author': 'Ailen Asoque - Grant Thornton', 'moddate': '2022-03-30T11:59:41+04:00', 'source': 'Data\\\\CBUAE_EN_4728_VER1.pdf', 'total_pages': 9, 'page': 5, 'page_label': '6'}, page_content='matures; \\n\\uf02d the accountability and responsibility of the IB to disclose accurate, relevant and timely \\ninformation to the IAH on the investment of their funds, i ncluding its performance, \\ninvestment policies, valuation, and frequency of valuation of the IAH funded assets; and \\n\\uf02d the rights of IAH in the event that the IB fails to perform its fiduciary obligations in \\naccordance with the applicable IA contract , that is, in the event of proven negligence or \\nmisconduct or breach of contract by the IBs whereby the IBs will have to compensate the \\nIAH for any loss. \\n  \\n5.3 IBs must make adequate and timely public disclosures in their annual report, website and any \\nother means  used by the IBs , of any material changes to their policies regarding profit \\ncalculation, asset allocation, investment strategies and mechanics of equalization of the returns \\n(if any) in respect of the IAs that they manage. The IB must allocate appropriate time between')]\n"
     ]
    }
   ],
   "source": [
    "user_query = input(\"Write Query Here: \")\n",
    "response = qa_chain.invoke({\"query\": user_query})\n",
    "\n",
    "print(\"\\nRESULT:\\n\", response[\"result\"])\n",
    "print(\"\\nSOURCE DOCUMENTS:\\n\", response[\"source_documents\"])"
   ]
  },
  {
   "cell_type": "code",
   "execution_count": null,
   "id": "7d10b6a6",
   "metadata": {},
   "outputs": [],
   "source": []
  },
  {
   "cell_type": "code",
   "execution_count": null,
   "id": "b457ef5e",
   "metadata": {},
   "outputs": [],
   "source": []
  },
  {
   "cell_type": "code",
   "execution_count": null,
   "id": "70fea746",
   "metadata": {},
   "outputs": [],
   "source": []
  },
  {
   "cell_type": "code",
   "execution_count": null,
   "id": "fc9d7e44",
   "metadata": {},
   "outputs": [],
   "source": []
  },
  {
   "cell_type": "code",
   "execution_count": null,
   "id": "13665488",
   "metadata": {},
   "outputs": [],
   "source": []
  },
  {
   "cell_type": "code",
   "execution_count": null,
   "id": "a3e80316",
   "metadata": {},
   "outputs": [],
   "source": []
  },
  {
   "cell_type": "code",
   "execution_count": null,
   "id": "f3f3c1bd",
   "metadata": {},
   "outputs": [],
   "source": []
  },
  {
   "cell_type": "code",
   "execution_count": null,
   "id": "45151595",
   "metadata": {},
   "outputs": [],
   "source": []
  },
  {
   "cell_type": "code",
   "execution_count": null,
   "id": "13c2111e",
   "metadata": {},
   "outputs": [],
   "source": []
  },
  {
   "cell_type": "code",
   "execution_count": null,
   "id": "3797a4c9",
   "metadata": {},
   "outputs": [],
   "source": []
  },
  {
   "cell_type": "code",
   "execution_count": null,
   "id": "d57a88c9",
   "metadata": {},
   "outputs": [],
   "source": []
  },
  {
   "cell_type": "code",
   "execution_count": null,
   "id": "cee003d1",
   "metadata": {},
   "outputs": [],
   "source": []
  },
  {
   "cell_type": "code",
   "execution_count": null,
   "id": "03334714",
   "metadata": {},
   "outputs": [],
   "source": []
  },
  {
   "cell_type": "code",
   "execution_count": null,
   "id": "2146afdc",
   "metadata": {},
   "outputs": [],
   "source": []
  },
  {
   "cell_type": "code",
   "execution_count": null,
   "id": "a636aa64",
   "metadata": {},
   "outputs": [],
   "source": []
  },
  {
   "cell_type": "code",
   "execution_count": null,
   "id": "bf190f91",
   "metadata": {},
   "outputs": [],
   "source": []
  },
  {
   "cell_type": "code",
   "execution_count": null,
   "id": "ed40d75a",
   "metadata": {},
   "outputs": [],
   "source": []
  }
 ],
 "metadata": {
  "kernelspec": {
   "display_name": "Python 3 (ipykernel)",
   "language": "python",
   "name": "python3"
  },
  "language_info": {
   "codemirror_mode": {
    "name": "ipython",
    "version": 3
   },
   "file_extension": ".py",
   "mimetype": "text/x-python",
   "name": "python",
   "nbconvert_exporter": "python",
   "pygments_lexer": "ipython3",
   "version": "3.12.3"
  }
 },
 "nbformat": 4,
 "nbformat_minor": 5
}
